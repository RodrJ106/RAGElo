{
 "cells": [
  {
   "cell_type": "code",
   "execution_count": 1,
   "id": "ed91d411-1377-46cd-9305-2b061ff98077",
   "metadata": {},
   "outputs": [],
   "source": [
    "%load_ext autoreload\n",
    "%autoreload 2"
   ]
  },
  {
   "cell_type": "code",
   "execution_count": 2,
   "id": "93cf6829-8ca0-4409-980d-c4f20436379c",
   "metadata": {},
   "outputs": [],
   "source": [
    "import os\n",
    "os.chdir(\"/Users/acamara/zav/ragelo/notebooks/LLMJudge/\")"
   ]
  },
  {
   "cell_type": "code",
   "execution_count": 51,
   "id": "4a98ec0a-a613-471c-9115-a1a3bad4f7c5",
   "metadata": {},
   "outputs": [],
   "source": [
    "from collections import defaultdict\n",
    "from typing import List, Dict\n",
    "import json\n",
    "from dataclasses import dataclass\n",
    "from ragelo import Query, QueriesDataset\n",
    "import pickle\n",
    "\n",
    "@dataclass\n",
    "class Sample:\n",
    "    qid: str\n",
    "    did: str\n",
    "    query: str\n",
    "    doc: str\n",
    "    rel: int\n",
    "\n",
    "queries = {}\n",
    "for line in open(\"data/llm4eval_query_2024.txt\"):\n",
    "    qid, query = line.strip().split(\"\\t\")\n",
    "    queries[qid] = query\n",
    "\n",
    "corpus = {}\n",
    "for line in open(\"data/llm4eval_document_2024.jsonl\"):\n",
    "    data = json.loads(line)\n",
    "    corpus[data['docid']] = data['doc']\n",
    "\n",
    "dataset: List[Query] = []\n",
    "query_ids = {}\n",
    "qrels = defaultdict(lambda:dict())\n",
    "# ragelo_dataset = QueriesDataset()\n",
    "\n",
    "for line in open(\"data/llm4eval_dev_qrel_2024.txt\"):\n",
    "    qid, _, did, rel = line.strip().split()\n",
    "    qrels[qid][did] = int(rel)\n",
    "    # if qid not in ragelo_dataset:\n",
    "        # ragelo_dataset[qid] = queries[qid]\n",
    "    dataset.append(\n",
    "        Sample(\n",
    "            qid=qid,\n",
    "            did=did,\n",
    "            query=queries[qid],\n",
    "            doc=corpus[did],\n",
    "            rel=int(rel)\n",
    "        )\n",
    "    )\n",
    "               \n",
    "    "
   ]
  },
  {
   "cell_type": "code",
   "execution_count": 19,
   "id": "c361d776-d126-41e9-b07e-1a6d4f046c9a",
   "metadata": {},
   "outputs": [],
   "source": [
    "all_docs = 0\n",
    "for q in ragelo_dataset:\n",
    "    all_docs += len(q.retrieved_docs)\n",
    "pickle.dump(ragelo_dataset, open(\"ragelo_dev_dataset_all.pkl\", \"wb\"))"
   ]
  },
  {
   "cell_type": "code",
   "execution_count": 45,
   "id": "9689fa16-d5c4-45d8-81f7-698ec14e4d39",
   "metadata": {},
   "outputs": [
    {
     "name": "stdout",
     "output_type": "stream",
     "text": [
      "0 0.66\n",
      "1 0.17\n",
      "2 0.075\n",
      "3 0.095\n"
     ]
    }
   ],
   "source": [
    "import random\n",
    "random.shuffle(dataset)\n",
    "dev_dataset = dataset[:200]\n",
    "scores = defaultdict(lambda: 0)\n",
    "for d in dev_dataset:\n",
    "    scores[d.rel]+=1\n",
    "for s in sorted(scores.keys()):\n",
    "    print (s, scores[s]/len(dev_dataset))"
   ]
  },
  {
   "cell_type": "code",
   "execution_count": 52,
   "id": "1bebee76-b570-4d26-bac9-46950ebd197a",
   "metadata": {},
   "outputs": [
    {
     "data": {
      "text/plain": [
       "'What vitamins can help with pain in the arm after a blood test?'"
      ]
     },
     "execution_count": 52,
     "metadata": {},
     "output_type": "execute_result"
    }
   ],
   "source": [
    "queries[q.qid]"
   ]
  },
  {
   "cell_type": "code",
   "execution_count": 55,
   "id": "066c8bbf-23f6-45db-85c7-9c04d4b82716",
   "metadata": {},
   "outputs": [],
   "source": [
    "ragelo_dataset = QueriesDataset()\n",
    "for q in dev_dataset:\n",
    "    if q.qid not in ragelo_dataset:\n",
    "        ragelo_dataset[q.qid] = queries[q.qid]\n",
    "    ragelo_dataset.add_retrieved_doc(q.qid, doc=q.doc, doc_id = q.did)"
   ]
  },
  {
   "cell_type": "code",
   "execution_count": 56,
   "id": "99c55ae2-ed8a-411f-8ce1-7cca404a4932",
   "metadata": {},
   "outputs": [],
   "source": [
    "ragelo_dataset.save(\"/Users/acamara/zav/ragelo/notebooks/LLMJudge/ragelo_dev_sample.pkl\")"
   ]
  },
  {
   "cell_type": "code",
   "execution_count": 57,
   "id": "27e0223a-894d-4cf4-b262-af89a481133b",
   "metadata": {},
   "outputs": [],
   "source": [
    "ragelo_dataset = QueriesDataset.load(\"/Users/acamara/zav/ragelo/notebooks/LLMJudge/ragelo_dev_sample.pkl\")"
   ]
  },
  {
   "cell_type": "code",
   "execution_count": 18,
   "id": "2a697889-c955-4974-8070-4058c54feaae",
   "metadata": {},
   "outputs": [
    {
     "name": "stdout",
     "output_type": "stream",
     "text": [
      "0 0.6248106842902382\n",
      "1 0.19317086603331957\n",
      "2 0.08605259534627564\n",
      "3 0.09596585433016659\n"
     ]
    }
   ],
   "source": [
    "scores = defaultdict(lambda: 0)\n",
    "for d in dataset:\n",
    "    scores[d.rel]+=1\n",
    "for s in sorted(scores.keys()):\n",
    "    print (s, scores[s]/len(dataset))"
   ]
  },
  {
   "cell_type": "code",
   "execution_count": 58,
   "id": "c643216c-7498-4822-b416-0246f2a222bd",
   "metadata": {},
   "outputs": [],
   "source": [
    "from ragelo import get_llm_provider, get_retrieval_evaluator\n",
    "from ragelo.types.configurations import CustomPromptEvaluatorConfig\n",
    "llm_provider = get_llm_provider(\"openai\", model=\"gpt-4o\")"
   ]
  },
  {
   "cell_type": "code",
   "execution_count": 59,
   "id": "1f0a837f-b727-4bdf-8fb9-b0803589e70a",
   "metadata": {},
   "outputs": [],
   "source": [
    "retrieval_evaluator_config = CustomPromptEvaluatorConfig(\n",
    "    prompt=\"\"\"\n",
    "You are an expert document annotator. Your job is to evaluate whether a document contains relevant information to answer a user's question.\n",
    "\n",
    "Please act as an impartial relevance annotator for a search engine. Your goal is to evaluate the relevancy of the documents given a user question.\n",
    "\n",
    "You should write one sentence explaining why the document is relevant or not for the user question. A document can be:\n",
    "    - Not relevant: The passage has nothing to do with the query.\n",
    "    - Related: The passage seems related to the user's question, but does not answer it.\n",
    "    - Somewhat Relevant: The passage has some answer for the query, but the answer may be a bit unclear, or hidden amongst extraneous information.\n",
    "    - Very relevant: The passage is dedicated to the query and contains the exact answer.\n",
    "    [user question]\n",
    "    {query}\n",
    "\n",
    "    [document content]\n",
    "    {document}\"\"\", # noqa: E501\n",
    "    # scoring_keys=[\"relevance\"],\n",
    "    answer_format=\"text\"\n",
    ")\n",
    "retrieval_evaluator = get_retrieval_evaluator(config=retrieval_evaluator_config, llm_provider=llm_provider)"
   ]
  },
  {
   "cell_type": "code",
   "execution_count": 62,
   "id": "815e926a-1b90-4360-8132-dafb32e53ae0",
   "metadata": {},
   "outputs": [],
   "source": [
    "ragelo_dataset.batch_evaluate(retrieval_evaluator)\n",
    "ragelo_dataset.save(\"/Users/acamara/zav/ragelo/notebooks/LLMJudge/ragelo_dev_sample.pkl\")\n",
    "ragelo_dataset = QueriesDataset.load(\"/Users/acamara/zav/ragelo/notebooks/LLMJudge/ragelo_dev_sample.pkl\")"
   ]
  },
  {
   "cell_type": "code",
   "execution_count": 64,
   "id": "35a79eaf-6956-4ab6-a6c7-4e0bcdf84a87",
   "metadata": {},
   "outputs": [
    {
     "ename": "AttributeError",
     "evalue": "'str' object has no attribute 'retrieved_docs'",
     "output_type": "error",
     "traceback": [
      "\u001b[0;31m---------------------------------------------------------------------------\u001b[0m",
      "\u001b[0;31mAttributeError\u001b[0m                            Traceback (most recent call last)",
      "Cell \u001b[0;32mIn[64], line 1\u001b[0m\n\u001b[0;32m----> 1\u001b[0m \u001b[43mq\u001b[49m\u001b[38;5;241;43m.\u001b[39;49m\u001b[43mretrieved_docs\u001b[49m\n",
      "\u001b[0;31mAttributeError\u001b[0m: 'str' object has no attribute 'retrieved_docs'"
     ]
    }
   ],
   "source": []
  },
  {
   "cell_type": "code",
   "execution_count": 69,
   "id": "6348f7a0-8e08-4cc3-a13c-e6031d326d4a",
   "metadata": {},
   "outputs": [],
   "source": [
    "def parse_reasoner_to_int(raw_answer:str) -> int:\n",
    "    ans = raw_answer.strip().replace(\"- \", \"\")\n",
    "    if ans.lower().startswith(\"not relevant\"):\n",
    "        return 0\n",
    "    if ans.lower().startswith(\"related\"):\n",
    "        return 1\n",
    "    elif ans.lower().startswith(\"somewhat relevant\"):\n",
    "        return 2\n",
    "    elif ans.lower().startswith(\"very relevant\"):\n",
    "        return 3\n",
    "    else:\n",
    "        raise ValueError(f\"No idea how to parse '{raw_answer}'\")\n",
    "    \n",
    "\n",
    "for q in ragelo_dataset:\n",
    "    for d in q.retrieved_docs:\n",
    "        d.evaluation.answer = parse_reasoner_to_int(d.evaluation.raw_answer)\n",
    "        "
   ]
  },
  {
   "cell_type": "code",
   "execution_count": 71,
   "id": "a771630f-3e82-4328-8f5e-d4391953cb59",
   "metadata": {},
   "outputs": [
    {
     "name": "stdout",
     "output_type": "stream",
     "text": [
      "RMSE: 0.9327379053088815\n",
      "MSE:  0.87\n"
     ]
    },
    {
     "data": {
      "text/plain": [
       "(0.0, 0.0)"
      ]
     },
     "execution_count": 71,
     "metadata": {},
     "output_type": "execute_result"
    }
   ],
   "source": [
    "from sklearn.metrics import root_mean_squared_error, mean_squared_error\n",
    "import numpy as np\n",
    "labels = []\n",
    "est = []\n",
    "for q in ragelo_dataset:\n",
    "    for d in q.retrieved_docs:\n",
    "        est.append(d.evaluation.answer)\n",
    "        labels.append(qrels[q.qid][d.did])\n",
    "print(f\"RMSE: {root_mean_squared_error(labels, est)}\")\n",
    "print(f\"MSE:  {mean_squared_error(labels, est)}\")\n",
    "np.median(labels), np.median(est)"
   ]
  }
 ],
 "metadata": {
  "kernelspec": {
   "display_name": "Python 3 (ipykernel)",
   "language": "python",
   "name": "python3"
  },
  "language_info": {
   "codemirror_mode": {
    "name": "ipython",
    "version": 3
   },
   "file_extension": ".py",
   "mimetype": "text/x-python",
   "name": "python",
   "nbconvert_exporter": "python",
   "pygments_lexer": "ipython3",
   "version": "3.11.5"
  }
 },
 "nbformat": 4,
 "nbformat_minor": 5
}
